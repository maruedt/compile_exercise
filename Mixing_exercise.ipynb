{
 "cells": [
  {
   "cell_type": "markdown",
   "id": "a88c5e8a-b377-424b-966c-e05030ea8bae",
   "metadata": {
    "tags": []
   },
   "source": [
    "# Mixing a fermenter\n",
    "\n",
    "A baffled fermenter with tank diameter and liquid height equal to 1.2 m is stirred using a sixblade\n",
    "downward-pumping Prochem Maxflo T hydrofoil impeller. The impeller diameter is\n",
    "0.42 m and the stirrer speed is 1.5 s$^{-1}$. The viscosity of the fermentation broth is $10^{-2}$ Pa s and the\n",
    "density is 1000 kg m$^{-3}$. The power input is 70 W. Estimate the mixing time.\n"
   ]
  },
  {
   "cell_type": "markdown",
   "id": "1f959e2c-5ea7-4930-8062-2a7c2ba75c05",
   "metadata": {
    "tags": [
     "solution"
    ]
   },
   "source": [
    "**Solution**\n",
    "1. Preparation:\n",
    "    1. Potentially draw a graph.\n",
    "    2. Convert power to SI base units.\n",
    "    3. Write down the formula for calculating the mixing time under turbultent conditions (!):\n",
    "    $$t_m\\cdot N = 5.3 N_P^{-\\frac{1}{3}}\\left(\\frac{D}{D_{tank}}\\right)^{-2}$$\n",
    "    $$N_p = \\frac{P}{\\rho N^3 D^5}$$\n",
    " \n",
    "2. Derivation:\n",
    "    1. Decide if turbulent or laminar conditions by calculating the Reynold's number. Note - the following steps only apply if the mixing is turbulent.\n",
    "    $$Re = \\frac{\\rho N D^2}{\\eta}$$\n",
    "    2. Reformulate equation to optain $t_m$\n",
    "    $$t_m= 5.3 \\frac{1}{N} N_P^{-\\frac{1}{3}}\\left(\\frac{D}{D_{tank}}\\right)^{-2}$$\n",
    "    2. Calculate power number $N_P$ and subsequently the mixing time.\n",
    "3. Calculation:"
   ]
  },
  {
   "cell_type": "code",
   "execution_count": 21,
   "id": "dcefb55d-858f-4554-8fb3-d3f4c22e80fe",
   "metadata": {
    "tags": [
     "solution"
    ]
   },
   "outputs": [
    {
     "name": "stdout",
     "output_type": "stream",
     "text": [
      "Reynolds number Re = 2.65e+04 dimensionless\n",
      "Power number NP = 1.59 dimensionless\n",
      "Mixing time tm = 24.7 second\n"
     ]
    }
   ],
   "source": [
    "import pint\n",
    "ureg = pint.UnitRegistry()\n",
    "\n",
    "# parameters\n",
    "P = 70*ureg.W\n",
    "rho = 1000*ureg.kg/ureg.m**3\n",
    "eta = 0.01*ureg.Pa*ureg.s\n",
    "D_tank = 1.2 * ureg.m\n",
    "D = 0.42*ureg.m\n",
    "N = 1.5/ureg.s\n",
    "\n",
    "# calculate the Reynolds number\n",
    "Re = (rho*N*D**2/eta).to_base_units()\n",
    "print(f'Reynolds number Re = {Re:.3}')\n",
    "\n",
    "# calculate power number\n",
    "NP = (P / (rho * N**3 * D**5)).to_base_units()\n",
    "print(f'Power number NP = {NP:.3}')\n",
    "\n",
    "# calculate mixing time\n",
    "tm = (\n",
    "    5.3/N * NP**(-1/3)*(D/D_tank)**(-2)\n",
    ").to_base_units()\n",
    "\n",
    "print(f'Mixing time tm = {tm:.3}')\n"
   ]
  },
  {
   "cell_type": "markdown",
   "id": "63ff2bf7-7e30-4263-bdb8-5f489c7c6800",
   "metadata": {},
   "source": [
    "# Mixing power requirements for a CSTR\n",
    "\n",
    "A cylindrical CSTR is used for mixing animal fats and a base for a soponification process. A flow rate of 30 $\\mathrm{m^3h^{-1}}$ is used. The reactor has a diameter of 50 cm and its stirrer's diameter is 20 cm. The liquid height is 50 cm. The density of the solution is 1.2 kg/L and its viscosity is 50 mPa s.\n",
    "\n",
    "Calculate the minimal power requirements for thouroughly mixing the reactor in steady-state. You can assume fully turbulent conditions"
   ]
  },
  {
   "cell_type": "markdown",
   "id": "13717b62-5815-4f38-a29a-d8b74560fefe",
   "metadata": {
    "tags": [
     "solution"
    ]
   },
   "source": [
    "**Solution**\n",
    "1. Preparation\n",
    "    1. Draw a diagram with all information.\n",
    "    2. Convert everything to SI units.\n",
    "    3. Realize that the power $P$ is part of the power number which is related to the mixing time.\n",
    "2. Derivation\n",
    "    1. We know that the mixing time should be $t_m \\leq \\frac{\\tau}{10}$. Consequently, we need to calculate the residence time $\\tau$ according to the following formula:\n",
    "    $$\\tau = \\frac{V}{\\dot{V}} = \\frac{\\frac{D_{tank}^2}{4} \\pi h}{\\dot{V}}$$\n",
    "    2. Calculate the maximal acceptable mixing time.\n",
    "    3. Combine the two equations for the mixing time and the power number and solve for the power $P$. Note that the stirrer frequency cancles out.\n",
    "    $$t_m\\cdot N = 5.3 \\left(\\frac{\\rho N^3 D^5}{P}\\right)^{\\frac{1}{3}}\\left(\\frac{D}{D_{tank}}\\right)^{-2}$$\n",
    "    $$\\Leftrightarrow$$\n",
    "    $$P^{\\frac{1}{3}} = 5.3 \\frac{1}{t_m} \\left(\\rho D^5\\right)^{\\frac{1}{3}}\\left(\\frac{D}{D_{tank}}\\right)^{-2}$$\n",
    "\n",
    "3. Calculation"
   ]
  },
  {
   "cell_type": "code",
   "execution_count": 50,
   "id": "7b709f54-07c4-4030-b297-94ab7cd9e1e0",
   "metadata": {
    "tags": [
     "solution"
    ]
   },
   "outputs": [
    {
     "name": "stdout",
     "output_type": "stream",
     "text": [
      "Volume of reactor: 0.0982 meter ** 3\n",
      "Residence time tau = 11.8 second\n",
      "Required power P = 8.54e+03 watt\n"
     ]
    }
   ],
   "source": [
    "# parameters\n",
    "D_tank = 0.5*ureg.m\n",
    "D = 0.20*ureg.m\n",
    "h = 0.5*ureg.m\n",
    "Vdot = (30 * ureg.m**3/ureg.hour).to_base_units()\n",
    "eta = 50*ureg.mPa*ureg.s\n",
    "rho = 1200*ureg.kg/ureg.m**3\n",
    "\n",
    "# calculate volume and residence time\n",
    "V = (D_tank**2/4*ureg.pi*h).to_base_units()\n",
    "tau = (V / Vdot).to_base_units()\n",
    "print(f'Volume of reactor: {V:.3}')\n",
    "print(f'Residence time tau = {tau:.3}')\n",
    "\n",
    "# calculate the maximum allowable mixing time\n",
    "tm_max = tau/10\n",
    "\n",
    "# calculate the required power\n",
    "P = (\n",
    "    (5.3/tm_max * (rho*D**5)**(1/3) * (D/D_tank)**-2)**3\n",
    ").to('watt')\n",
    "print(f'Required power P = {P:.3}')"
   ]
  },
  {
   "cell_type": "markdown",
   "id": "77c82f71-84fe-47dc-ad6c-e24c314e0cfe",
   "metadata": {
    "tags": []
   },
   "source": [
    "# Scale-up based on constant mixing times\n",
    "We want to perform a scale-up based on a constant mixing time. The two tank geometries are similar, i.e. the ratio between liquid height and tank diameter as well as stirrer diameter and tank diameter is used. The process liquid is the same. The power requirement at pilot scale with a diameter of 1 m is 200 W. Calculate the power requirement of a production reactor with 5 m diameter."
   ]
  },
  {
   "cell_type": "markdown",
   "id": "067a51a3-573b-42ac-b46e-1b4ac798a254",
   "metadata": {
    "tags": [
     "solution"
    ]
   },
   "source": [
    "**Solution**\n",
    "\n",
    "1. Preparation\n",
    "    1. Make a short graph of the situation.\n",
    "    2. Write down relevant equations\n",
    "    $$t_{m, pilot}=t_{m, prod}=const$$\n",
    "    $$t_m\\cdot N = 5.3 N_P^{-\\frac{1}{3}}\\left(\\frac{D}{D_{tank}}\\right)^{-2}$$\n",
    "    $$N_p = \\frac{P}{\\rho N^3 D^5}$$\n",
    "    \n",
    "2. Derivation\n",
    "    1. Combine the two equations for the mixing time\n",
    "    $$t_m = 5.3 \\left(\\frac{\\rho D^5}{P}\\right)^{\\frac{1}{3}}\\left(\\frac{D}{D_{tank}}\\right)^{-2}$$\n",
    "    2. It was mentioned that ratio $\\frac{D}{D_{tank}}$ remains constant. We may therefore write:\n",
    "    $$R = \\frac{D}{D_{tank}}$$\n",
    "    3. The mixing time equation is true for pilot and production scale. Therefore, equate for the two geometries:\n",
    "    $$5.3 \\left(\\frac{\\rho D_{pilot}^5}{P_{pilot}}\\right)^{\\frac{1}{3}}R^{-2} = 5.3 \\left(\\frac{\\rho D_{prod}^5}{P_{prod}}\\right)^{\\frac{1}{3}}R^{-2}$$\n",
    "    4. Consequently:\n",
    "    $$ \\frac{ D_{pilot}^5}{P_{pilot}} = \\frac{D_{prod}^5}{P_{prod}}$$\n",
    "    or\n",
    "    $$P_{prod} =  \\frac{D_{prod}^5 P_{pilot}}{D_{pilot}^5}$$\n",
    "3. Calculation:"
   ]
  },
  {
   "cell_type": "code",
   "execution_count": 56,
   "id": "d0d6b362-dc69-44e7-9641-5f87ddce8a10",
   "metadata": {
    "tags": [
     "solution"
    ]
   },
   "outputs": [
    {
     "name": "stdout",
     "output_type": "stream",
     "text": [
      "Power requirement production: 6.25e+05 watt\n"
     ]
    }
   ],
   "source": [
    "P_pilot = 200*ureg.W\n",
    "D_tank_pilot = 1*ureg.m\n",
    "D_tank_prod = 5*ureg.m\n",
    "\n",
    "P_prod = D_tank_prod**5 * P_pilot / D_tank_pilot**5\n",
    "\n",
    "print(f'Power requirement production: {P_prod:.3}')"
   ]
  }
 ],
 "metadata": {
  "kernelspec": {
   "display_name": "Python 3 (ipykernel)",
   "language": "python",
   "name": "python3"
  },
  "language_info": {
   "codemirror_mode": {
    "name": "ipython",
    "version": 3
   },
   "file_extension": ".py",
   "mimetype": "text/x-python",
   "name": "python",
   "nbconvert_exporter": "python",
   "pygments_lexer": "ipython3",
   "version": "3.10.8"
  },
  "toc-autonumbering": true
 },
 "nbformat": 4,
 "nbformat_minor": 5
}
